{
 "cells": [
  {
   "cell_type": "code",
   "execution_count": 1,
   "metadata": {},
   "outputs": [
    {
     "name": "stderr",
     "output_type": "stream",
     "text": [
      "BokehDeprecationWarning: CARTODBPOSITRON was deprecated in Bokeh 1.1.0 and will be removed, use get_provider(Vendors.CARTODBPOSITRON) instead.\n"
     ]
    }
   ],
   "source": [
    "import pandas as pd\n",
    "import descartes\n",
    "import geopandas as gpd\n",
    "import matplotlib.pyplot as plt\n",
    "from shapely.geometry import Point, Polygon\n",
    "from bokeh.plotting import figure, save, show, output_notebook\n",
    "from bokeh.models import ColumnDataSource\n",
    "from bokeh.tile_providers import get_provider, Vendors, CARTODBPOSITRON"
   ]
  },
  {
   "cell_type": "code",
   "execution_count": 2,
   "metadata": {},
   "outputs": [],
   "source": [
    "#need to convert to CSV, add header file\n",
    "\n",
    "# File path\n",
    "# points1_fp = r\"part-00000.csv\"\n",
    "# points2_fp = r\"part-00001.csv\"\n",
    "\n",
    "# Read the data\n",
    "# points = gpd.read_file(points2_fp)\n",
    "\n",
    "df = pd.read_csv(\"../data/part-00000.csv\", \n",
    "                  sep=',', \n",
    "                  names=[\"Lat\", \"Lon\", \"Time\", \"Name\",\"Random\",\"Tx\"])\n",
    "                 #,\n",
    "               # nrows=200)\n",
    "\n",
    "df2 = pd.read_csv(\"../data/part-00000.csv\", \n",
    "                  sep=',', \n",
    "                  names=[\"Lat\", \"Lon\", \"Time\", \"Name\",\"Random\",\"Tx\"])\n",
    "                  #,\n",
    "               # nrows=200)"
   ]
  },
  {
   "cell_type": "code",
   "execution_count": 3,
   "metadata": {
    "scrolled": true
   },
   "outputs": [
    {
     "data": {
      "text/plain": [
       "296882"
      ]
     },
     "execution_count": 3,
     "metadata": {},
     "output_type": "execute_result"
    }
   ],
   "source": [
    "frames = [df, df2]\n",
    "result = pd.concat(frames)\n",
    "# dropping null value columns to avoid errors \n",
    "result.dropna(inplace = True) \n",
    "len(result.index)"
   ]
  },
  {
   "cell_type": "code",
   "execution_count": 4,
   "metadata": {},
   "outputs": [],
   "source": [
    "#get rid of weird characters\n",
    "result[\"Lat\"] = result['Lat'].str[3:].str.rstrip(\"'\")\n",
    "result[\"Lon\"] = result['Lon'].str[3:].str.rstrip(\"'\")\n",
    "#issue is that we lose digit significance\n",
    "result[\"Lat\"] = result['Lat'].astype(float)\n",
    "result[\"Lon\"] = result['Lon'].astype(float)"
   ]
  },
  {
   "cell_type": "code",
   "execution_count": 5,
   "metadata": {
    "scrolled": true
   },
   "outputs": [
    {
     "data": {
      "text/html": [
       "<div>\n",
       "<style scoped>\n",
       "    .dataframe tbody tr th:only-of-type {\n",
       "        vertical-align: middle;\n",
       "    }\n",
       "\n",
       "    .dataframe tbody tr th {\n",
       "        vertical-align: top;\n",
       "    }\n",
       "\n",
       "    .dataframe thead th {\n",
       "        text-align: right;\n",
       "    }\n",
       "</style>\n",
       "<table border=\"1\" class=\"dataframe\">\n",
       "  <thead>\n",
       "    <tr style=\"text-align: right;\">\n",
       "      <th></th>\n",
       "      <th>Lat</th>\n",
       "      <th>Lon</th>\n",
       "      <th>Time</th>\n",
       "      <th>Name</th>\n",
       "      <th>Random</th>\n",
       "      <th>Tx</th>\n",
       "    </tr>\n",
       "  </thead>\n",
       "  <tbody>\n",
       "    <tr>\n",
       "      <td>0</td>\n",
       "      <td>33.689475</td>\n",
       "      <td>-117.543308</td>\n",
       "      <td>u'2014-03-15:10:10:20'</td>\n",
       "      <td>u'Sorrento'</td>\n",
       "      <td>u'F41L'</td>\n",
       "      <td>u'8cc3b47e-bd01-4482-b500-28f2342679af')</td>\n",
       "    </tr>\n",
       "    <tr>\n",
       "      <td>1</td>\n",
       "      <td>39.363519</td>\n",
       "      <td>-119.400335</td>\n",
       "      <td>u'2014-03-15:10:10:20'</td>\n",
       "      <td>u'Sorrento'</td>\n",
       "      <td>u'F41L'</td>\n",
       "      <td>u'707daba1-5640-4d60-a6d9-1d6fa0645be0')</td>\n",
       "    </tr>\n",
       "    <tr>\n",
       "      <td>2</td>\n",
       "      <td>33.191358</td>\n",
       "      <td>-116.448243</td>\n",
       "      <td>u'2014-03-15:10:10:20'</td>\n",
       "      <td>u'Ronin'</td>\n",
       "      <td>u'Novelty'</td>\n",
       "      <td>u'db66fe81-aa55-43b4-9418-fc6e7a00f891')</td>\n",
       "    </tr>\n",
       "    <tr>\n",
       "      <td>3</td>\n",
       "      <td>33.834354</td>\n",
       "      <td>-117.330001</td>\n",
       "      <td>u'2014-03-15:10:10:20'</td>\n",
       "      <td>u'Sorrento'</td>\n",
       "      <td>u'F41L'</td>\n",
       "      <td>u'ffa18088-69a0-433e-84b8-006b2b9cc1d0')</td>\n",
       "    </tr>\n",
       "    <tr>\n",
       "      <td>4</td>\n",
       "      <td>37.380395</td>\n",
       "      <td>-121.840757</td>\n",
       "      <td>u'2014-03-15:10:10:20'</td>\n",
       "      <td>u'Sorrento'</td>\n",
       "      <td>u'F33L'</td>\n",
       "      <td>u'66d678e6-9c87-48d2-a415-8d5035e54a23')</td>\n",
       "    </tr>\n",
       "  </tbody>\n",
       "</table>\n",
       "</div>"
      ],
      "text/plain": [
       "         Lat         Lon                     Time          Name       Random  \\\n",
       "0  33.689475 -117.543308   u'2014-03-15:10:10:20'   u'Sorrento'      u'F41L'   \n",
       "1  39.363519 -119.400335   u'2014-03-15:10:10:20'   u'Sorrento'      u'F41L'   \n",
       "2  33.191358 -116.448243   u'2014-03-15:10:10:20'      u'Ronin'   u'Novelty'   \n",
       "3  33.834354 -117.330001   u'2014-03-15:10:10:20'   u'Sorrento'      u'F41L'   \n",
       "4  37.380395 -121.840757   u'2014-03-15:10:10:20'   u'Sorrento'      u'F33L'   \n",
       "\n",
       "                                          Tx  \n",
       "0   u'8cc3b47e-bd01-4482-b500-28f2342679af')  \n",
       "1   u'707daba1-5640-4d60-a6d9-1d6fa0645be0')  \n",
       "2   u'db66fe81-aa55-43b4-9418-fc6e7a00f891')  \n",
       "3   u'ffa18088-69a0-433e-84b8-006b2b9cc1d0')  \n",
       "4   u'66d678e6-9c87-48d2-a415-8d5035e54a23')  "
      ]
     },
     "execution_count": 5,
     "metadata": {},
     "output_type": "execute_result"
    }
   ],
   "source": [
    "result.head()"
   ]
  },
  {
   "cell_type": "code",
   "execution_count": 6,
   "metadata": {},
   "outputs": [],
   "source": [
    "import math\n",
    "from ast import literal_eval\n",
    "def getx(x):  \n",
    "    lat = x[0]\n",
    "    lon = x[1]\n",
    "    r_major = 6378137.000\n",
    "    x = r_major * math.radians(lon)\n",
    "    scale = x/lon\n",
    "    y = 180.0/math.pi * math.log(math.tan(math.pi/4.0 + \n",
    "        lat * (math.pi/180.0)/2.0)) * scale\n",
    "    return x"
   ]
  },
  {
   "cell_type": "code",
   "execution_count": 7,
   "metadata": {},
   "outputs": [],
   "source": [
    "import math\n",
    "from ast import literal_eval\n",
    "def gety(x):  \n",
    "    lat = x[0]\n",
    "    lon = x[1]\n",
    "    r_major = 6378137.000\n",
    "    x = r_major * math.radians(lon)\n",
    "    scale = x/lon\n",
    "    y = 180.0/math.pi * math.log(math.tan(math.pi/4.0 + \n",
    "        lat * (math.pi/180.0)/2.0)) * scale\n",
    "    return y"
   ]
  },
  {
   "cell_type": "code",
   "execution_count": 8,
   "metadata": {},
   "outputs": [
    {
     "data": {
      "text/html": [
       "<div>\n",
       "<style scoped>\n",
       "    .dataframe tbody tr th:only-of-type {\n",
       "        vertical-align: middle;\n",
       "    }\n",
       "\n",
       "    .dataframe tbody tr th {\n",
       "        vertical-align: top;\n",
       "    }\n",
       "\n",
       "    .dataframe thead th {\n",
       "        text-align: right;\n",
       "    }\n",
       "</style>\n",
       "<table border=\"1\" class=\"dataframe\">\n",
       "  <thead>\n",
       "    <tr style=\"text-align: right;\">\n",
       "      <th></th>\n",
       "      <th>Lat</th>\n",
       "      <th>Lon</th>\n",
       "      <th>Time</th>\n",
       "      <th>Name</th>\n",
       "      <th>Random</th>\n",
       "      <th>Tx</th>\n",
       "      <th>coords_x</th>\n",
       "      <th>coords_y</th>\n",
       "    </tr>\n",
       "  </thead>\n",
       "  <tbody>\n",
       "    <tr>\n",
       "      <td>0</td>\n",
       "      <td>33.689475</td>\n",
       "      <td>-117.543308</td>\n",
       "      <td>u'2014-03-15:10:10:20'</td>\n",
       "      <td>u'Sorrento'</td>\n",
       "      <td>u'F41L'</td>\n",
       "      <td>u'8cc3b47e-bd01-4482-b500-28f2342679af')</td>\n",
       "      <td>-1.308486e+07</td>\n",
       "      <td>3.987182e+06</td>\n",
       "    </tr>\n",
       "    <tr>\n",
       "      <td>1</td>\n",
       "      <td>39.363519</td>\n",
       "      <td>-119.400335</td>\n",
       "      <td>u'2014-03-15:10:10:20'</td>\n",
       "      <td>u'Sorrento'</td>\n",
       "      <td>u'F41L'</td>\n",
       "      <td>u'707daba1-5640-4d60-a6d9-1d6fa0645be0')</td>\n",
       "      <td>-1.329158e+07</td>\n",
       "      <td>4.773877e+06</td>\n",
       "    </tr>\n",
       "    <tr>\n",
       "      <td>2</td>\n",
       "      <td>33.191358</td>\n",
       "      <td>-116.448243</td>\n",
       "      <td>u'2014-03-15:10:10:20'</td>\n",
       "      <td>u'Ronin'</td>\n",
       "      <td>u'Novelty'</td>\n",
       "      <td>u'db66fe81-aa55-43b4-9418-fc6e7a00f891')</td>\n",
       "      <td>-1.296296e+07</td>\n",
       "      <td>3.920731e+06</td>\n",
       "    </tr>\n",
       "    <tr>\n",
       "      <td>3</td>\n",
       "      <td>33.834354</td>\n",
       "      <td>-117.330001</td>\n",
       "      <td>u'2014-03-15:10:10:20'</td>\n",
       "      <td>u'Sorrento'</td>\n",
       "      <td>u'F41L'</td>\n",
       "      <td>u'ffa18088-69a0-433e-84b8-006b2b9cc1d0')</td>\n",
       "      <td>-1.306112e+07</td>\n",
       "      <td>4.006581e+06</td>\n",
       "    </tr>\n",
       "    <tr>\n",
       "      <td>4</td>\n",
       "      <td>37.380395</td>\n",
       "      <td>-121.840757</td>\n",
       "      <td>u'2014-03-15:10:10:20'</td>\n",
       "      <td>u'Sorrento'</td>\n",
       "      <td>u'F33L'</td>\n",
       "      <td>u'66d678e6-9c87-48d2-a415-8d5035e54a23')</td>\n",
       "      <td>-1.356325e+07</td>\n",
       "      <td>4.492262e+06</td>\n",
       "    </tr>\n",
       "  </tbody>\n",
       "</table>\n",
       "</div>"
      ],
      "text/plain": [
       "         Lat         Lon                     Time          Name       Random  \\\n",
       "0  33.689475 -117.543308   u'2014-03-15:10:10:20'   u'Sorrento'      u'F41L'   \n",
       "1  39.363519 -119.400335   u'2014-03-15:10:10:20'   u'Sorrento'      u'F41L'   \n",
       "2  33.191358 -116.448243   u'2014-03-15:10:10:20'      u'Ronin'   u'Novelty'   \n",
       "3  33.834354 -117.330001   u'2014-03-15:10:10:20'   u'Sorrento'      u'F41L'   \n",
       "4  37.380395 -121.840757   u'2014-03-15:10:10:20'   u'Sorrento'      u'F33L'   \n",
       "\n",
       "                                          Tx      coords_x      coords_y  \n",
       "0   u'8cc3b47e-bd01-4482-b500-28f2342679af') -1.308486e+07  3.987182e+06  \n",
       "1   u'707daba1-5640-4d60-a6d9-1d6fa0645be0') -1.329158e+07  4.773877e+06  \n",
       "2   u'db66fe81-aa55-43b4-9418-fc6e7a00f891') -1.296296e+07  3.920731e+06  \n",
       "3   u'ffa18088-69a0-433e-84b8-006b2b9cc1d0') -1.306112e+07  4.006581e+06  \n",
       "4   u'66d678e6-9c87-48d2-a415-8d5035e54a23') -1.356325e+07  4.492262e+06  "
      ]
     },
     "execution_count": 8,
     "metadata": {},
     "output_type": "execute_result"
    }
   ],
   "source": [
    "result['coords_x'] = result.apply(getx,1)\n",
    "result['coords_y'] = result.apply(gety,1)\n",
    "result.head()"
   ]
  },
  {
   "cell_type": "code",
   "execution_count": 9,
   "metadata": {},
   "outputs": [
    {
     "name": "stderr",
     "output_type": "stream",
     "text": [
      "BokehDeprecationWarning: CARTODBPOSITRON was deprecated in Bokeh 1.1.0 and will be removed, use get_provider(Vendors.CARTODBPOSITRON) instead.\n"
     ]
    }
   ],
   "source": [
    "from bokeh.plotting import figure, show, output_notebook\n",
    "from bokeh.tile_providers import CARTODBPOSITRON\n",
    "p = figure(x_axis_type=\"mercator\", y_axis_type=\"mercator\")\n",
    "p.add_tile(CARTODBPOSITRON)\n",
    "p.circle(x = result['coords_x'],\n",
    "         y = result['coords_y'])\n",
    "show(p)"
   ]
  },
  {
   "cell_type": "code",
   "execution_count": 52,
   "metadata": {},
   "outputs": [
    {
     "name": "stderr",
     "output_type": "stream",
     "text": [
      "/Users/nicholasmurray/anaconda3/lib/python3.7/site-packages/bokeh/io/saving.py:127: UserWarning: save() called but no resources were supplied and output_file(...) was never called, defaulting to resources.CDN\n",
      "  warn(\"save() called but no resources were supplied and output_file(...) was never called, defaulting to resources.CDN\")\n",
      "/Users/nicholasmurray/anaconda3/lib/python3.7/site-packages/bokeh/io/saving.py:140: UserWarning: save() called but no title was supplied and output_file(...) was never called, using default title 'Bokeh Plot'\n",
      "  warn(\"save() called but no title was supplied and output_file(...) was never called, using default title 'Bokeh Plot'\")\n"
     ]
    },
    {
     "data": {
      "text/plain": [
       "'/Users/nicholasmurray/sharewithVM/devicestatus_etl/step2.html'"
      ]
     },
     "execution_count": 52,
     "metadata": {},
     "output_type": "execute_result"
    }
   ],
   "source": [
    "# Output filepath\n",
    "# outfp = r\"step2.html\"\n",
    "\n",
    "# Save the map\n",
    "# save(obj=p, filename=outfp)\n",
    "# save(p, outfp)"
   ]
  }
 ],
 "metadata": {
  "kernelspec": {
   "display_name": "Python 3",
   "language": "python",
   "name": "python3"
  },
  "language_info": {
   "codemirror_mode": {
    "name": "ipython",
    "version": 3
   },
   "file_extension": ".py",
   "mimetype": "text/x-python",
   "name": "python",
   "nbconvert_exporter": "python",
   "pygments_lexer": "ipython3",
   "version": "3.7.4"
  }
 },
 "nbformat": 4,
 "nbformat_minor": 4
}
