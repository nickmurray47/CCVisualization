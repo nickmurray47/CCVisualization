{
 "cells": [
  {
   "cell_type": "code",
   "execution_count": 88,
   "metadata": {},
   "outputs": [
    {
     "name": "stderr",
     "output_type": "stream",
     "text": [
      "BokehDeprecationWarning: CARTODBPOSITRON was deprecated in Bokeh 1.1.0 and will be removed, use get_provider(Vendors.CARTODBPOSITRON) instead.\n"
     ]
    }
   ],
   "source": [
    "import pandas as pd\n",
    "import descartes\n",
    "import geopandas as gpd\n",
    "import matplotlib.pyplot as plt\n",
    "from shapely.geometry import Point, Polygon\n",
    "from bokeh.plotting import figure, save, show, output_notebook\n",
    "from bokeh.models import ColumnDataSource\n",
    "from bokeh.tile_providers import get_provider, Vendors, CARTODBPOSITRON"
   ]
  },
  {
   "cell_type": "code",
   "execution_count": 89,
   "metadata": {},
   "outputs": [
    {
     "data": {
      "text/plain": [
       "450151"
      ]
     },
     "execution_count": 89,
     "metadata": {},
     "output_type": "execute_result"
    }
   ],
   "source": [
    "#need to convert to CSV, add header file\n",
    "\n",
    "# File path\n",
    "# points1_fp = r\"part-00000.csv\"\n",
    "# points2_fp = r\"part-00001.csv\"\n",
    "\n",
    "# Read the data\n",
    "# points = gpd.read_file(points2_fp)\n",
    "\n",
    "result = pd.read_csv(\"../data/lat_longs.txt\", \n",
    "                  sep=' ', \n",
    "                  names=[\"Lat\", \"Lon\", \"Wiki URL\"])\n",
    "len(result)"
   ]
  },
  {
   "cell_type": "code",
   "execution_count": 90,
   "metadata": {},
   "outputs": [],
   "source": [
    "# http://en.wikipedia.org/wiki/Extreme_points_of_the_United_States#Westernmost\n",
    "top = 49.3457868 # north lat\n",
    "left = -124.7844079 # west long\n",
    "right = -66.9513812 # east long\n",
    "bottom =  24.7433195 # south lat\n",
    "\n",
    "#def cull(x):\n",
    "#bottom <= lat <= top and left <= lng <= right\n",
    "#In US"
   ]
  },
  {
   "cell_type": "code",
   "execution_count": 91,
   "metadata": {},
   "outputs": [
    {
     "data": {
      "text/plain": [
       "113885"
      ]
     },
     "execution_count": 91,
     "metadata": {},
     "output_type": "execute_result"
    }
   ],
   "source": [
    "top = 49.3457868 # north lat\n",
    "left = -124.7844079 # west long\n",
    "right = -66.9513812 # east long\n",
    "bottom =  24.7433195 # south lat\n",
    "result = result.drop( (result[((bottom <= result.Lat) & (result.Lat <= top)) & ((left <= result.Lon) & (result.Lon <= right)) == False]  ).index)\n",
    "#result = result.drop(result[(left> result.Lon) & (result.Lon > right)].index)\n",
    "len(result)"
   ]
  },
  {
   "cell_type": "code",
   "execution_count": 92,
   "metadata": {},
   "outputs": [],
   "source": [
    "import math\n",
    "from ast import literal_eval\n",
    "def getx(x):  \n",
    "    lat = x[0]\n",
    "    lon = x[1]\n",
    "    r_major = 6378137.000\n",
    "    x = r_major * math.radians(lon)\n",
    "    scale = x/lon\n",
    "    y = 180.0/math.pi * math.log(math.tan(math.pi/4.0 + \n",
    "        lat * (math.pi/180.0)/2.0)) * scale\n",
    "    return x"
   ]
  },
  {
   "cell_type": "code",
   "execution_count": 93,
   "metadata": {},
   "outputs": [],
   "source": [
    "import math\n",
    "from ast import literal_eval\n",
    "def gety(x):  \n",
    "    lat = x[0]\n",
    "    lon = x[1]\n",
    "    r_major = 6378137.000\n",
    "    x = r_major * math.radians(lon)\n",
    "    scale = x/lon\n",
    "    y = 180.0/math.pi * math.log(math.tan(math.pi/4.0 + \n",
    "        lat * (math.pi/180.0)/2.0)) * scale\n",
    "    return y"
   ]
  },
  {
   "cell_type": "code",
   "execution_count": 94,
   "metadata": {},
   "outputs": [
    {
     "data": {
      "text/html": [
       "<div>\n",
       "<style scoped>\n",
       "    .dataframe tbody tr th:only-of-type {\n",
       "        vertical-align: middle;\n",
       "    }\n",
       "\n",
       "    .dataframe tbody tr th {\n",
       "        vertical-align: top;\n",
       "    }\n",
       "\n",
       "    .dataframe thead th {\n",
       "        text-align: right;\n",
       "    }\n",
       "</style>\n",
       "<table border=\"1\" class=\"dataframe\">\n",
       "  <thead>\n",
       "    <tr style=\"text-align: right;\">\n",
       "      <th></th>\n",
       "      <th>Lat</th>\n",
       "      <th>Lon</th>\n",
       "      <th>Wiki URL</th>\n",
       "      <th>coords_x</th>\n",
       "      <th>coords_y</th>\n",
       "    </tr>\n",
       "  </thead>\n",
       "  <tbody>\n",
       "    <tr>\n",
       "      <td>14</td>\n",
       "      <td>42.034722</td>\n",
       "      <td>-93.620000</td>\n",
       "      <td>&lt;http://dbpedia.org/resource/Ames,_Iowa&gt;</td>\n",
       "      <td>-1.042173e+07</td>\n",
       "      <td>5.166182e+06</td>\n",
       "    </tr>\n",
       "    <tr>\n",
       "      <td>24</td>\n",
       "      <td>46.188889</td>\n",
       "      <td>-123.821111</td>\n",
       "      <td>&lt;http://dbpedia.org/resource/Astoria,_Oregon&gt;</td>\n",
       "      <td>-1.378370e+07</td>\n",
       "      <td>5.810671e+06</td>\n",
       "    </tr>\n",
       "    <tr>\n",
       "      <td>26</td>\n",
       "      <td>30.250000</td>\n",
       "      <td>-97.750000</td>\n",
       "      <td>&lt;http://dbpedia.org/resource/Austin,_Texas&gt;</td>\n",
       "      <td>-1.088148e+07</td>\n",
       "      <td>3.535726e+06</td>\n",
       "    </tr>\n",
       "    <tr>\n",
       "      <td>27</td>\n",
       "      <td>42.281389</td>\n",
       "      <td>-83.748333</td>\n",
       "      <td>&lt;http://dbpedia.org/resource/Ann_Arbor,_Michigan&gt;</td>\n",
       "      <td>-9.322822e+06</td>\n",
       "      <td>5.203224e+06</td>\n",
       "    </tr>\n",
       "    <tr>\n",
       "      <td>28</td>\n",
       "      <td>40.690444</td>\n",
       "      <td>-73.995139</td>\n",
       "      <td>&lt;http://dbpedia.org/resource/Cobble_Hill_Tunnel&gt;</td>\n",
       "      <td>-8.237101e+06</td>\n",
       "      <td>4.966789e+06</td>\n",
       "    </tr>\n",
       "  </tbody>\n",
       "</table>\n",
       "</div>"
      ],
      "text/plain": [
       "          Lat         Lon                                           Wiki URL  \\\n",
       "14  42.034722  -93.620000           <http://dbpedia.org/resource/Ames,_Iowa>   \n",
       "24  46.188889 -123.821111      <http://dbpedia.org/resource/Astoria,_Oregon>   \n",
       "26  30.250000  -97.750000        <http://dbpedia.org/resource/Austin,_Texas>   \n",
       "27  42.281389  -83.748333  <http://dbpedia.org/resource/Ann_Arbor,_Michigan>   \n",
       "28  40.690444  -73.995139   <http://dbpedia.org/resource/Cobble_Hill_Tunnel>   \n",
       "\n",
       "        coords_x      coords_y  \n",
       "14 -1.042173e+07  5.166182e+06  \n",
       "24 -1.378370e+07  5.810671e+06  \n",
       "26 -1.088148e+07  3.535726e+06  \n",
       "27 -9.322822e+06  5.203224e+06  \n",
       "28 -8.237101e+06  4.966789e+06  "
      ]
     },
     "execution_count": 94,
     "metadata": {},
     "output_type": "execute_result"
    }
   ],
   "source": [
    "result['coords_x'] = result.apply(getx,1)\n",
    "result['coords_y'] = result.apply(gety,1)\n",
    "result.head()"
   ]
  },
  {
   "cell_type": "code",
   "execution_count": 95,
   "metadata": {},
   "outputs": [
    {
     "name": "stderr",
     "output_type": "stream",
     "text": [
      "BokehDeprecationWarning: CARTODBPOSITRON was deprecated in Bokeh 1.1.0 and will be removed, use get_provider(Vendors.CARTODBPOSITRON) instead.\n"
     ]
    }
   ],
   "source": [
    "from bokeh.plotting import figure, show, output_notebook\n",
    "from bokeh.tile_providers import CARTODBPOSITRON\n",
    "p = figure(x_axis_type=\"mercator\", y_axis_type=\"mercator\")\n",
    "p.add_tile(CARTODBPOSITRON)\n",
    "p.circle(x = result['coords_x'],\n",
    "         y = result['coords_y'])\n",
    "show(p)"
   ]
  }
 ],
 "metadata": {
  "kernelspec": {
   "display_name": "Python 3",
   "language": "python",
   "name": "python3"
  },
  "language_info": {
   "codemirror_mode": {
    "name": "ipython",
    "version": 3
   },
   "file_extension": ".py",
   "mimetype": "text/x-python",
   "name": "python",
   "nbconvert_exporter": "python",
   "pygments_lexer": "ipython3",
   "version": "3.7.1"
  }
 },
 "nbformat": 4,
 "nbformat_minor": 4
}
