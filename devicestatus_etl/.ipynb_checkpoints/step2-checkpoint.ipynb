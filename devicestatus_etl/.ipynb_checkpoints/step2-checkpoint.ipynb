{
 "cells": [
  {
   "cell_type": "code",
   "execution_count": 69,
   "metadata": {},
   "outputs": [],
   "source": [
    "import pandas as pd\n",
    "import descartes\n",
    "import geopandas as gpd\n",
    "import matplotlib.pyplot as plt\n",
    "from shapely.geometry import Point, Polygon\n",
    "from bokeh.plotting import figure, save\n",
    "from bokeh.models import ColumnDataSource\n"
   ]
  },
  {
   "cell_type": "code",
   "execution_count": 70,
   "metadata": {},
   "outputs": [],
   "source": [
    "#need to convert to CSV, add header file\n",
    "\n",
    "# File path\n",
    "# points1_fp = r\"part-00000.csv\"\n",
    "# points2_fp = r\"part-00001.csv\"\n",
    "\n",
    "# Read the data\n",
    "# points = gpd.read_file(points2_fp)\n",
    "\n",
    "df = pd.read_csv(\"../data/part-00000.csv\", \n",
    "                  sep=',', \n",
    "                  names=[\"Lat\", \"Lon\", \"Time\", \"Name\",\"Random\",\"Tx\"],\n",
    "                nrows=200)\n",
    "\n",
    "df2 = pd.read_csv(\"../data/part-00000.csv\", \n",
    "                  sep=',', \n",
    "                  names=[\"Lat\", \"Lon\", \"Time\", \"Name\",\"Random\",\"Tx\"],\n",
    "                 nrows=200)\n",
    "\n"
   ]
  },
  {
   "cell_type": "code",
   "execution_count": 71,
   "metadata": {
    "scrolled": true
   },
   "outputs": [
    {
     "data": {
      "text/plain": [
       "400"
      ]
     },
     "execution_count": 71,
     "metadata": {},
     "output_type": "execute_result"
    }
   ],
   "source": [
    "frames = [df, df2]\n",
    "result = pd.concat(frames)\n",
    "# dropping null value columns to avoid errors \n",
    "result.dropna(inplace = True) \n",
    "len(result.index)\n"
   ]
  },
  {
   "cell_type": "code",
   "execution_count": 72,
   "metadata": {},
   "outputs": [],
   "source": [
    "#get rid of weird characters\n",
    "result[\"Lat\"] = result['Lat'].str[3:].str.rstrip(\"'\")\n",
    "result[\"Lon\"] = result['Lon'].str[3:].str.rstrip(\"'\")\n",
    "#issue is that we lose digit significance\n",
    "result[\"Lat\"] = result['Lat'].astype(float)\n",
    "result[\"Lon\"] = result['Lon'].astype(float)\n"
   ]
  },
  {
   "cell_type": "code",
   "execution_count": 73,
   "metadata": {},
   "outputs": [
    {
     "data": {
      "text/html": [
       "<div>\n",
       "<style scoped>\n",
       "    .dataframe tbody tr th:only-of-type {\n",
       "        vertical-align: middle;\n",
       "    }\n",
       "\n",
       "    .dataframe tbody tr th {\n",
       "        vertical-align: top;\n",
       "    }\n",
       "\n",
       "    .dataframe thead th {\n",
       "        text-align: right;\n",
       "    }\n",
       "</style>\n",
       "<table border=\"1\" class=\"dataframe\">\n",
       "  <thead>\n",
       "    <tr style=\"text-align: right;\">\n",
       "      <th></th>\n",
       "      <th>Lat</th>\n",
       "      <th>Lon</th>\n",
       "      <th>Time</th>\n",
       "      <th>Name</th>\n",
       "      <th>Random</th>\n",
       "      <th>Tx</th>\n",
       "    </tr>\n",
       "  </thead>\n",
       "  <tbody>\n",
       "    <tr>\n",
       "      <th>0</th>\n",
       "      <td>33.689475</td>\n",
       "      <td>-117.543308</td>\n",
       "      <td>u'2014-03-15:10:10:20'</td>\n",
       "      <td>u'Sorrento'</td>\n",
       "      <td>u'F41L'</td>\n",
       "      <td>u'8cc3b47e-bd01-4482-b500-28f2342679af')</td>\n",
       "    </tr>\n",
       "    <tr>\n",
       "      <th>1</th>\n",
       "      <td>39.363519</td>\n",
       "      <td>-119.400335</td>\n",
       "      <td>u'2014-03-15:10:10:20'</td>\n",
       "      <td>u'Sorrento'</td>\n",
       "      <td>u'F41L'</td>\n",
       "      <td>u'707daba1-5640-4d60-a6d9-1d6fa0645be0')</td>\n",
       "    </tr>\n",
       "    <tr>\n",
       "      <th>2</th>\n",
       "      <td>33.191358</td>\n",
       "      <td>-116.448243</td>\n",
       "      <td>u'2014-03-15:10:10:20'</td>\n",
       "      <td>u'Ronin'</td>\n",
       "      <td>u'Novelty'</td>\n",
       "      <td>u'db66fe81-aa55-43b4-9418-fc6e7a00f891')</td>\n",
       "    </tr>\n",
       "    <tr>\n",
       "      <th>3</th>\n",
       "      <td>33.834354</td>\n",
       "      <td>-117.330001</td>\n",
       "      <td>u'2014-03-15:10:10:20'</td>\n",
       "      <td>u'Sorrento'</td>\n",
       "      <td>u'F41L'</td>\n",
       "      <td>u'ffa18088-69a0-433e-84b8-006b2b9cc1d0')</td>\n",
       "    </tr>\n",
       "    <tr>\n",
       "      <th>4</th>\n",
       "      <td>37.380395</td>\n",
       "      <td>-121.840757</td>\n",
       "      <td>u'2014-03-15:10:10:20'</td>\n",
       "      <td>u'Sorrento'</td>\n",
       "      <td>u'F33L'</td>\n",
       "      <td>u'66d678e6-9c87-48d2-a415-8d5035e54a23')</td>\n",
       "    </tr>\n",
       "  </tbody>\n",
       "</table>\n",
       "</div>"
      ],
      "text/plain": [
       "         Lat         Lon                     Time          Name       Random  \\\n",
       "0  33.689475 -117.543308   u'2014-03-15:10:10:20'   u'Sorrento'      u'F41L'   \n",
       "1  39.363519 -119.400335   u'2014-03-15:10:10:20'   u'Sorrento'      u'F41L'   \n",
       "2  33.191358 -116.448243   u'2014-03-15:10:10:20'      u'Ronin'   u'Novelty'   \n",
       "3  33.834354 -117.330001   u'2014-03-15:10:10:20'   u'Sorrento'      u'F41L'   \n",
       "4  37.380395 -121.840757   u'2014-03-15:10:10:20'   u'Sorrento'      u'F33L'   \n",
       "\n",
       "                                          Tx  \n",
       "0   u'8cc3b47e-bd01-4482-b500-28f2342679af')  \n",
       "1   u'707daba1-5640-4d60-a6d9-1d6fa0645be0')  \n",
       "2   u'db66fe81-aa55-43b4-9418-fc6e7a00f891')  \n",
       "3   u'ffa18088-69a0-433e-84b8-006b2b9cc1d0')  \n",
       "4   u'66d678e6-9c87-48d2-a415-8d5035e54a23')  "
      ]
     },
     "execution_count": 73,
     "metadata": {},
     "output_type": "execute_result"
    }
   ],
   "source": [
    "result.head()"
   ]
  },
  {
   "cell_type": "code",
   "execution_count": 74,
   "metadata": {},
   "outputs": [
    {
     "data": {
      "text/plain": [
       "[<shapely.geometry.point.Point at 0x12cea9cc0>,\n",
       " <shapely.geometry.point.Point at 0x12ceb28d0>,\n",
       " <shapely.geometry.point.Point at 0x12cea9d68>]"
      ]
     },
     "execution_count": 74,
     "metadata": {},
     "output_type": "execute_result"
    }
   ],
   "source": [
    "geometry = [Point(xy) for xy in zip(result[\"Lon\"], result[\"Lat\"])]\n",
    "geometry[:3]"
   ]
  },
  {
   "cell_type": "code",
   "execution_count": 49,
   "metadata": {},
   "outputs": [],
   "source": [
    "# psource = ColumnDataSource(result)\n",
    "# psource"
   ]
  },
  {
   "cell_type": "code",
   "execution_count": 51,
   "metadata": {},
   "outputs": [
    {
     "data": {
      "text/html": [
       "<div style=\"display: table;\"><div style=\"display: table-row;\"><div style=\"display: table-cell;\"><b title=\"bokeh.models.renderers.GlyphRenderer\">GlyphRenderer</b>(</div><div style=\"display: table-cell;\">id&nbsp;=&nbsp;'1235', <span id=\"1248\" style=\"cursor: pointer;\">&hellip;)</span></div></div><div class=\"1247\" style=\"display: none;\"><div style=\"display: table-cell;\"></div><div style=\"display: table-cell;\">data_source&nbsp;=&nbsp;ColumnDataSource(id='1227', ...),</div></div><div class=\"1247\" style=\"display: none;\"><div style=\"display: table-cell;\"></div><div style=\"display: table-cell;\">glyph&nbsp;=&nbsp;Circle(id='1233', ...),</div></div><div class=\"1247\" style=\"display: none;\"><div style=\"display: table-cell;\"></div><div style=\"display: table-cell;\">hover_glyph&nbsp;=&nbsp;None,</div></div><div class=\"1247\" style=\"display: none;\"><div style=\"display: table-cell;\"></div><div style=\"display: table-cell;\">js_event_callbacks&nbsp;=&nbsp;{},</div></div><div class=\"1247\" style=\"display: none;\"><div style=\"display: table-cell;\"></div><div style=\"display: table-cell;\">js_property_callbacks&nbsp;=&nbsp;{},</div></div><div class=\"1247\" style=\"display: none;\"><div style=\"display: table-cell;\"></div><div style=\"display: table-cell;\">level&nbsp;=&nbsp;'glyph',</div></div><div class=\"1247\" style=\"display: none;\"><div style=\"display: table-cell;\"></div><div style=\"display: table-cell;\">muted&nbsp;=&nbsp;False,</div></div><div class=\"1247\" style=\"display: none;\"><div style=\"display: table-cell;\"></div><div style=\"display: table-cell;\">muted_glyph&nbsp;=&nbsp;None,</div></div><div class=\"1247\" style=\"display: none;\"><div style=\"display: table-cell;\"></div><div style=\"display: table-cell;\">name&nbsp;=&nbsp;None,</div></div><div class=\"1247\" style=\"display: none;\"><div style=\"display: table-cell;\"></div><div style=\"display: table-cell;\">nonselection_glyph&nbsp;=&nbsp;Circle(id='1234', ...),</div></div><div class=\"1247\" style=\"display: none;\"><div style=\"display: table-cell;\"></div><div style=\"display: table-cell;\">selection_glyph&nbsp;=&nbsp;None,</div></div><div class=\"1247\" style=\"display: none;\"><div style=\"display: table-cell;\"></div><div style=\"display: table-cell;\">subscribed_events&nbsp;=&nbsp;[],</div></div><div class=\"1247\" style=\"display: none;\"><div style=\"display: table-cell;\"></div><div style=\"display: table-cell;\">tags&nbsp;=&nbsp;[],</div></div><div class=\"1247\" style=\"display: none;\"><div style=\"display: table-cell;\"></div><div style=\"display: table-cell;\">view&nbsp;=&nbsp;CDSView(id='1236', ...),</div></div><div class=\"1247\" style=\"display: none;\"><div style=\"display: table-cell;\"></div><div style=\"display: table-cell;\">visible&nbsp;=&nbsp;True,</div></div><div class=\"1247\" style=\"display: none;\"><div style=\"display: table-cell;\"></div><div style=\"display: table-cell;\">x_range_name&nbsp;=&nbsp;'default',</div></div><div class=\"1247\" style=\"display: none;\"><div style=\"display: table-cell;\"></div><div style=\"display: table-cell;\">y_range_name&nbsp;=&nbsp;'default')</div></div></div>\n",
       "<script>\n",
       "(function() {\n",
       "  var expanded = false;\n",
       "  var ellipsis = document.getElementById(\"1248\");\n",
       "  ellipsis.addEventListener(\"click\", function() {\n",
       "    var rows = document.getElementsByClassName(\"1247\");\n",
       "    for (var i = 0; i < rows.length; i++) {\n",
       "      var el = rows[i];\n",
       "      el.style.display = expanded ? \"none\" : \"table-row\";\n",
       "    }\n",
       "    ellipsis.innerHTML = expanded ? \"&hellip;)\" : \"&lsaquo;&lsaquo;&lsaquo;\";\n",
       "    expanded = !expanded;\n",
       "  });\n",
       "})();\n",
       "</script>\n"
      ],
      "text/plain": [
       "GlyphRenderer(id='1235', ...)"
      ]
     },
     "execution_count": 51,
     "metadata": {},
     "output_type": "execute_result"
    }
   ],
   "source": [
    "#Bokeh figure \n",
    "p = figure(title=\"Step Two Interactive Plot\")\n",
    "# p.circle('Lat', 'Lon', source=psource, color='red', size=5)"
   ]
  },
  {
   "cell_type": "code",
   "execution_count": 52,
   "metadata": {},
   "outputs": [
    {
     "name": "stderr",
     "output_type": "stream",
     "text": [
      "/Users/nicholasmurray/anaconda3/lib/python3.7/site-packages/bokeh/io/saving.py:127: UserWarning: save() called but no resources were supplied and output_file(...) was never called, defaulting to resources.CDN\n",
      "  warn(\"save() called but no resources were supplied and output_file(...) was never called, defaulting to resources.CDN\")\n",
      "/Users/nicholasmurray/anaconda3/lib/python3.7/site-packages/bokeh/io/saving.py:140: UserWarning: save() called but no title was supplied and output_file(...) was never called, using default title 'Bokeh Plot'\n",
      "  warn(\"save() called but no title was supplied and output_file(...) was never called, using default title 'Bokeh Plot'\")\n"
     ]
    },
    {
     "data": {
      "text/plain": [
       "'/Users/nicholasmurray/sharewithVM/devicestatus_etl/step2.html'"
      ]
     },
     "execution_count": 52,
     "metadata": {},
     "output_type": "execute_result"
    }
   ],
   "source": [
    "# Output filepath\n",
    "# outfp = r\"step2.html\"\n",
    "\n",
    "# Save the map\n",
    "# save(obj=p, filename=outfp)\n",
    "# save(p, outfp)"
   ]
  },
  {
   "cell_type": "code",
   "execution_count": null,
   "metadata": {},
   "outputs": [],
   "source": []
  }
 ],
 "metadata": {
  "kernelspec": {
   "display_name": "Python 3",
   "language": "python",
   "name": "python3"
  },
  "language_info": {
   "codemirror_mode": {
    "name": "ipython",
    "version": 3
   },
   "file_extension": ".py",
   "mimetype": "text/x-python",
   "name": "python",
   "nbconvert_exporter": "python",
   "pygments_lexer": "ipython3",
   "version": "3.7.1"
  }
 },
 "nbformat": 4,
 "nbformat_minor": 2
}
